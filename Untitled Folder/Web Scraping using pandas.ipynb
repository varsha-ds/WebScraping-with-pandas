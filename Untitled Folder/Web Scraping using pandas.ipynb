{
 "cells": [
  {
   "cell_type": "code",
   "execution_count": 1,
   "id": "44b350a2",
   "metadata": {},
   "outputs": [],
   "source": [
    "import pandas as pd"
   ]
  },
  {
   "cell_type": "code",
   "execution_count": 14,
   "id": "db746c3c",
   "metadata": {},
   "outputs": [],
   "source": [
    "df = pd.read_html('https://en.wikipedia.org/wiki/The_World%27s_Billionaires')"
   ]
  },
  {
   "cell_type": "code",
   "execution_count": 15,
   "id": "36e5f346",
   "metadata": {},
   "outputs": [
    {
     "data": {
      "text/plain": [
       "48"
      ]
     },
     "execution_count": 15,
     "metadata": {},
     "output_type": "execute_result"
    }
   ],
   "source": [
    "len(df)"
   ]
  },
  {
   "cell_type": "code",
   "execution_count": 16,
   "id": "54339679",
   "metadata": {},
   "outputs": [],
   "source": [
    "data = df[0]"
   ]
  },
  {
   "cell_type": "code",
   "execution_count": 21,
   "id": "da383e5b",
   "metadata": {},
   "outputs": [
    {
     "data": {
      "text/html": [
       "<div>\n",
       "<style scoped>\n",
       "    .dataframe tbody tr th:only-of-type {\n",
       "        vertical-align: middle;\n",
       "    }\n",
       "\n",
       "    .dataframe tbody tr th {\n",
       "        vertical-align: top;\n",
       "    }\n",
       "\n",
       "    .dataframe thead th {\n",
       "        text-align: right;\n",
       "    }\n",
       "</style>\n",
       "<table border=\"1\" class=\"dataframe\">\n",
       "  <thead>\n",
       "    <tr style=\"text-align: right;\">\n",
       "      <th></th>\n",
       "      <th>No.</th>\n",
       "      <th>Name</th>\n",
       "      <th>Net worth (USD)</th>\n",
       "      <th>Age</th>\n",
       "      <th>Nationality</th>\n",
       "      <th>Primary source(s) of wealth</th>\n",
       "    </tr>\n",
       "  </thead>\n",
       "  <tbody>\n",
       "    <tr>\n",
       "      <th>0</th>\n",
       "      <td>1</td>\n",
       "      <td>Bernard Arnault &amp; family</td>\n",
       "      <td>$233 billion</td>\n",
       "      <td>75</td>\n",
       "      <td>France</td>\n",
       "      <td>LVMH</td>\n",
       "    </tr>\n",
       "    <tr>\n",
       "      <th>1</th>\n",
       "      <td>2</td>\n",
       "      <td>Elon Musk</td>\n",
       "      <td>$195 billion</td>\n",
       "      <td>52</td>\n",
       "      <td>South Africa  Canada  United States</td>\n",
       "      <td>Tesla, SpaceX, Twitter (Currently X)</td>\n",
       "    </tr>\n",
       "    <tr>\n",
       "      <th>2</th>\n",
       "      <td>3</td>\n",
       "      <td>Jeff Bezos</td>\n",
       "      <td>$194 billion</td>\n",
       "      <td>60</td>\n",
       "      <td>United States</td>\n",
       "      <td>Amazon</td>\n",
       "    </tr>\n",
       "    <tr>\n",
       "      <th>3</th>\n",
       "      <td>4</td>\n",
       "      <td>Mark Zuckerberg</td>\n",
       "      <td>$177 billion</td>\n",
       "      <td>39</td>\n",
       "      <td>United States</td>\n",
       "      <td>Meta Platforms</td>\n",
       "    </tr>\n",
       "    <tr>\n",
       "      <th>4</th>\n",
       "      <td>5</td>\n",
       "      <td>Larry Ellison</td>\n",
       "      <td>$141 billion</td>\n",
       "      <td>79</td>\n",
       "      <td>United States</td>\n",
       "      <td>Oracle Corporation</td>\n",
       "    </tr>\n",
       "    <tr>\n",
       "      <th>5</th>\n",
       "      <td>6</td>\n",
       "      <td>Warren Buffett</td>\n",
       "      <td>$133 billion</td>\n",
       "      <td>93</td>\n",
       "      <td>United States</td>\n",
       "      <td>Berkshire Hathaway</td>\n",
       "    </tr>\n",
       "    <tr>\n",
       "      <th>6</th>\n",
       "      <td>7</td>\n",
       "      <td>Bill Gates</td>\n",
       "      <td>$128 billion</td>\n",
       "      <td>68</td>\n",
       "      <td>United States</td>\n",
       "      <td>Microsoft</td>\n",
       "    </tr>\n",
       "    <tr>\n",
       "      <th>7</th>\n",
       "      <td>8</td>\n",
       "      <td>Steve Ballmer</td>\n",
       "      <td>$121 billion</td>\n",
       "      <td>68</td>\n",
       "      <td>United States</td>\n",
       "      <td>Microsoft</td>\n",
       "    </tr>\n",
       "    <tr>\n",
       "      <th>8</th>\n",
       "      <td>9</td>\n",
       "      <td>Mukesh Ambani</td>\n",
       "      <td>$116 billion</td>\n",
       "      <td>65</td>\n",
       "      <td>India</td>\n",
       "      <td>Reliance Industries</td>\n",
       "    </tr>\n",
       "    <tr>\n",
       "      <th>9</th>\n",
       "      <td>10</td>\n",
       "      <td>Larry Page</td>\n",
       "      <td>$114 billion</td>\n",
       "      <td>51</td>\n",
       "      <td>United States</td>\n",
       "      <td>Google</td>\n",
       "    </tr>\n",
       "  </tbody>\n",
       "</table>\n",
       "</div>"
      ],
      "text/plain": [
       "   No.                      Name Net worth (USD)  Age  \\\n",
       "0    1  Bernard Arnault & family    $233 billion   75   \n",
       "1    2                 Elon Musk    $195 billion   52   \n",
       "2    3                Jeff Bezos    $194 billion   60   \n",
       "3    4           Mark Zuckerberg    $177 billion   39   \n",
       "4    5             Larry Ellison    $141 billion   79   \n",
       "5    6            Warren Buffett    $133 billion   93   \n",
       "6    7                Bill Gates    $128 billion   68   \n",
       "7    8             Steve Ballmer    $121 billion   68   \n",
       "8    9             Mukesh Ambani    $116 billion   65   \n",
       "9   10                Larry Page    $114 billion   51   \n",
       "\n",
       "                           Nationality           Primary source(s) of wealth  \n",
       "0                               France                                  LVMH  \n",
       "1  South Africa  Canada  United States  Tesla, SpaceX, Twitter (Currently X)  \n",
       "2                        United States                                Amazon  \n",
       "3                        United States                        Meta Platforms  \n",
       "4                        United States                    Oracle Corporation  \n",
       "5                        United States                    Berkshire Hathaway  \n",
       "6                        United States                             Microsoft  \n",
       "7                        United States                             Microsoft  \n",
       "8                                India                   Reliance Industries  \n",
       "9                        United States                                Google  "
      ]
     },
     "execution_count": 21,
     "metadata": {},
     "output_type": "execute_result"
    }
   ],
   "source": [
    "df[2]"
   ]
  },
  {
   "cell_type": "code",
   "execution_count": 22,
   "id": "811b1b45",
   "metadata": {},
   "outputs": [
    {
     "data": {
      "text/html": [
       "<div>\n",
       "<style scoped>\n",
       "    .dataframe tbody tr th:only-of-type {\n",
       "        vertical-align: middle;\n",
       "    }\n",
       "\n",
       "    .dataframe tbody tr th {\n",
       "        vertical-align: top;\n",
       "    }\n",
       "\n",
       "    .dataframe thead th {\n",
       "        text-align: right;\n",
       "    }\n",
       "</style>\n",
       "<table border=\"1\" class=\"dataframe\">\n",
       "  <thead>\n",
       "    <tr style=\"text-align: right;\">\n",
       "      <th></th>\n",
       "      <th>0</th>\n",
       "      <th>1</th>\n",
       "    </tr>\n",
       "  </thead>\n",
       "  <tbody>\n",
       "    <tr>\n",
       "      <th>0</th>\n",
       "      <td>List of the world's billionaires, ranked in or...</td>\n",
       "      <td>List of the world's billionaires, ranked in or...</td>\n",
       "    </tr>\n",
       "    <tr>\n",
       "      <th>1</th>\n",
       "      <td>The net worth of the world's billionaires incr...</td>\n",
       "      <td>The net worth of the world's billionaires incr...</td>\n",
       "    </tr>\n",
       "    <tr>\n",
       "      <th>2</th>\n",
       "      <td>Publication details</td>\n",
       "      <td>Publication details</td>\n",
       "    </tr>\n",
       "    <tr>\n",
       "      <th>3</th>\n",
       "      <td>Publisher</td>\n",
       "      <td>.mw-parser-output .plainlist ol,.mw-parser-out...</td>\n",
       "    </tr>\n",
       "    <tr>\n",
       "      <th>4</th>\n",
       "      <td>Publication</td>\n",
       "      <td>Forbes</td>\n",
       "    </tr>\n",
       "  </tbody>\n",
       "</table>\n",
       "</div>"
      ],
      "text/plain": [
       "                                                   0  \\\n",
       "0  List of the world's billionaires, ranked in or...   \n",
       "1  The net worth of the world's billionaires incr...   \n",
       "2                                Publication details   \n",
       "3                                          Publisher   \n",
       "4                                        Publication   \n",
       "\n",
       "                                                   1  \n",
       "0  List of the world's billionaires, ranked in or...  \n",
       "1  The net worth of the world's billionaires incr...  \n",
       "2                                Publication details  \n",
       "3  .mw-parser-output .plainlist ol,.mw-parser-out...  \n",
       "4                                             Forbes  "
      ]
     },
     "execution_count": 22,
     "metadata": {},
     "output_type": "execute_result"
    }
   ],
   "source": [
    "data.head()"
   ]
  },
  {
   "cell_type": "code",
   "execution_count": null,
   "id": "6348fae1",
   "metadata": {},
   "outputs": [],
   "source": []
  }
 ],
 "metadata": {
  "kernelspec": {
   "display_name": "Python 3 (ipykernel)",
   "language": "python",
   "name": "python3"
  },
  "language_info": {
   "codemirror_mode": {
    "name": "ipython",
    "version": 3
   },
   "file_extension": ".py",
   "mimetype": "text/x-python",
   "name": "python",
   "nbconvert_exporter": "python",
   "pygments_lexer": "ipython3",
   "version": "3.11.5"
  }
 },
 "nbformat": 4,
 "nbformat_minor": 5
}
